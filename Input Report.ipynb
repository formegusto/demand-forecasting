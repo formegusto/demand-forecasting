{
 "cells": [
  {
   "cell_type": "code",
   "execution_count": 34,
   "id": "3dbd6bd8",
   "metadata": {},
   "outputs": [
    {
     "name": "stdout",
     "output_type": "stream",
     "text": [
      "The autoreload extension is already loaded. To reload it, use:\n",
      "  %reload_ext autoreload\n"
     ]
    }
   ],
   "source": [
    "%load_ext autoreload\n",
    "%autoreload 2\n",
    "%reload_ext autoreload"
   ]
  },
  {
   "cell_type": "code",
   "execution_count": 35,
   "id": "43083aa8",
   "metadata": {},
   "outputs": [],
   "source": [
    "from src.model import BasicModel"
   ]
  },
  {
   "cell_type": "code",
   "execution_count": null,
   "id": "a869b75c",
   "metadata": {
    "scrolled": false
   },
   "outputs": [
    {
     "name": "stdout",
     "output_type": "stream",
     "text": [
      "energy_col_idx : 1\n",
      "connect KETIDB,,,\n",
      "connect success\n",
      "###### [Notice] jg datas load start ###### \n",
      "\n",
      "                     avg ta  energy (kw 15min)\n",
      "Date Time                                     \n",
      "2017-01-01 00:00:00     2.7              15250\n",
      "2017-01-01 01:00:00     2.7              14000\n",
      "2017-01-01 02:00:00     2.7              14750\n",
      "2017-01-01 03:00:00     2.7              29500\n",
      "2017-01-01 04:00:00     2.7              15750\n",
      "...                     ...                ...\n",
      "2018-09-19 19:00:00    22.1              22500\n",
      "2018-09-19 20:00:00    22.1              19250\n",
      "2018-09-19 21:00:00    22.1              20250\n",
      "2018-09-19 22:00:00    22.1              19000\n",
      "2018-09-19 23:00:00    22.1              18250\n",
      "\n",
      "[15048 rows x 2 columns]\n",
      "\n",
      "###### [Notice] jg datas load success ###### \n",
      "\n",
      "###### [Notice] Train, Val, Test Datas Config ###### \n",
      "\n",
      "###### [Notice] Normalization start ###### \n",
      "\n",
      "avg ta                  13.073151\n",
      "energy (kw 15min)    25051.997717\n",
      "dtype: float64\n",
      "avg ta                  10.969199\n",
      "energy (kw 15min)    13626.112124\n",
      "dtype: float64\n",
      "###### [Notice] Normalization success ###### \n",
      "\n",
      "###### [Notice] cluster datas load start ###### \n",
      "\n",
      "connect KETIDB,,,\n",
      "connect success\n",
      "disconnect KETIDB,,,\n",
      "disconnect success!!\n",
      "###### [Notice] cluster datas load success ###### \n",
      "\n",
      "###### [Notice] cluster pattern matching start ###### \n",
      "\n"
     ]
    }
   ],
   "source": [
    "BasicModel(name=\"test\", \n",
    "           columns=['avg ta', 'energy (kw 15min)'],\n",
    "          is_contain_cluster_label=True)"
   ]
  },
  {
   "cell_type": "code",
   "execution_count": null,
   "id": "5480054e",
   "metadata": {},
   "outputs": [],
   "source": []
  }
 ],
 "metadata": {
  "kernelspec": {
   "display_name": "Python 3",
   "language": "python",
   "name": "python3"
  },
  "language_info": {
   "codemirror_mode": {
    "name": "ipython",
    "version": 3
   },
   "file_extension": ".py",
   "mimetype": "text/x-python",
   "name": "python",
   "nbconvert_exporter": "python",
   "pygments_lexer": "ipython3",
   "version": "3.8.8"
  }
 },
 "nbformat": 4,
 "nbformat_minor": 5
}
