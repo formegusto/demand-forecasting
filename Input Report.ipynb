{
 "cells": [
  {
   "cell_type": "code",
   "execution_count": 1,
   "id": "8169790b",
   "metadata": {},
   "outputs": [],
   "source": [
    "%load_ext autoreload\n",
    "%autoreload 2\n",
    "%reload_ext autoreload\n",
    "\n",
    "import matplotlib.pyplot as plt\n",
    "\n",
    "plt.rcParams['figure.figsize'] = 15.7,13.27\n",
    "plt.rcParams['font.family'] = 'AppleGothic'"
   ]
  },
  {
   "cell_type": "code",
   "execution_count": 12,
   "id": "43083aa8",
   "metadata": {},
   "outputs": [],
   "source": [
    "from src.model import BasicModel\n",
    "\n",
    "class LEARN_INFO:\n",
    "    def __init__(self, name, columns, is_contain_cluster_label=False):\n",
    "        self.name = name\n",
    "        self.columns = columns\n",
    "        self.is_label = is_contain_cluster_label\n",
    "        \n",
    "INPUT_REPORT_SIMULATION = [\n",
    "    LEARN_INFO(name=\"univariate\", columns=['energy (kw 15min)'], is_contain_cluster_label=False),\n",
    "    LEARN_INFO(name=\"with cluster label\", columns=['energy (kw 15min)'], is_contain_cluster_label=True),\n",
    "]\n",
    "\n",
    "TRAINING_MODEL_ARR = []"
   ]
  },
  {
   "cell_type": "code",
   "execution_count": 13,
   "id": "a869b75c",
   "metadata": {
    "scrolled": false
   },
   "outputs": [
    {
     "name": "stdout",
     "output_type": "stream",
     "text": [
      "###### Basic Model Information ######\n",
      " - name : with cluster label\n",
      " - columns : energy (kw 15min)\n",
      " - datas : \n",
      "                     energy (kw 15min)\n",
      "Date Time                             \n",
      "2017-01-01 00:00:00              15250\n",
      "2017-01-01 01:00:00              14000\n",
      "2017-01-01 02:00:00              14750\n",
      "2017-01-01 03:00:00              29500\n",
      "2017-01-01 04:00:00              15750\n",
      " - norm_datas : \n",
      "                     energy (kw 15min)  cluster energy\n",
      "Date Time                                             \n",
      "2017-01-01 00:00:00          -0.719354       -0.488868\n",
      "2017-01-01 01:00:00          -0.811090       -0.581751\n",
      "2017-01-01 02:00:00          -0.756048       -0.644819\n",
      "2017-01-01 03:00:00           0.326432       -0.162060\n",
      "2017-01-01 04:00:00          -0.682660       -0.420066\n",
      "\n",
      "Epoch 1/50\n",
      "274/274 [==============================] - 2s 4ms/step - loss: 0.3495 - mean_absolute_error: 0.4543 - val_loss: 0.2479 - val_mean_absolute_error: 0.3565\n",
      "Epoch 2/50\n",
      "274/274 [==============================] - 1s 3ms/step - loss: 0.2266 - mean_absolute_error: 0.3516 - val_loss: 0.2156 - val_mean_absolute_error: 0.3218\n",
      "Epoch 3/50\n",
      "274/274 [==============================] - 1s 3ms/step - loss: 0.2156 - mean_absolute_error: 0.3392 - val_loss: 0.2048 - val_mean_absolute_error: 0.3103\n",
      "Epoch 4/50\n",
      "274/274 [==============================] - 1s 3ms/step - loss: 0.2122 - mean_absolute_error: 0.3350 - val_loss: 0.1991 - val_mean_absolute_error: 0.3049\n",
      "Epoch 5/50\n",
      "274/274 [==============================] - 1s 3ms/step - loss: 0.2097 - mean_absolute_error: 0.3322 - val_loss: 0.1945 - val_mean_absolute_error: 0.3003\n",
      "Epoch 6/50\n",
      "274/274 [==============================] - 1s 3ms/step - loss: 0.2073 - mean_absolute_error: 0.3297 - val_loss: 0.1900 - val_mean_absolute_error: 0.2955\n",
      "Epoch 7/50\n",
      "274/274 [==============================] - 1s 3ms/step - loss: 0.2050 - mean_absolute_error: 0.3275 - val_loss: 0.1863 - val_mean_absolute_error: 0.2915\n",
      "Epoch 8/50\n",
      "274/274 [==============================] - 1s 3ms/step - loss: 0.2030 - mean_absolute_error: 0.3257 - val_loss: 0.1838 - val_mean_absolute_error: 0.2890\n",
      "Epoch 9/50\n",
      "274/274 [==============================] - 1s 3ms/step - loss: 0.2013 - mean_absolute_error: 0.3241 - val_loss: 0.1819 - val_mean_absolute_error: 0.2872\n",
      "Epoch 10/50\n",
      "274/274 [==============================] - 1s 3ms/step - loss: 0.1996 - mean_absolute_error: 0.3224 - val_loss: 0.1801 - val_mean_absolute_error: 0.2856\n",
      "Epoch 11/50\n",
      "274/274 [==============================] - 1s 3ms/step - loss: 0.1979 - mean_absolute_error: 0.3206 - val_loss: 0.1784 - val_mean_absolute_error: 0.2840\n",
      "Epoch 12/50\n",
      "274/274 [==============================] - 1s 3ms/step - loss: 0.1961 - mean_absolute_error: 0.3188 - val_loss: 0.1770 - val_mean_absolute_error: 0.2828\n",
      "Epoch 13/50\n",
      "274/274 [==============================] - 1s 3ms/step - loss: 0.1944 - mean_absolute_error: 0.3172 - val_loss: 0.1758 - val_mean_absolute_error: 0.2820\n",
      "Epoch 14/50\n",
      "274/274 [==============================] - 1s 3ms/step - loss: 0.1932 - mean_absolute_error: 0.3160 - val_loss: 0.1751 - val_mean_absolute_error: 0.2818\n",
      "Epoch 15/50\n",
      "274/274 [==============================] - 1s 3ms/step - loss: 0.1922 - mean_absolute_error: 0.3151 - val_loss: 0.1747 - val_mean_absolute_error: 0.2818\n",
      "Epoch 16/50\n",
      "274/274 [==============================] - 1s 3ms/step - loss: 0.1915 - mean_absolute_error: 0.3144 - val_loss: 0.1744 - val_mean_absolute_error: 0.2819\n",
      "Epoch 17/50\n",
      "274/274 [==============================] - 1s 3ms/step - loss: 0.1909 - mean_absolute_error: 0.3137 - val_loss: 0.1742 - val_mean_absolute_error: 0.2819\n",
      "Epoch 18/50\n",
      "274/274 [==============================] - 1s 4ms/step - loss: 0.1904 - mean_absolute_error: 0.3131 - val_loss: 0.1740 - val_mean_absolute_error: 0.2819\n",
      "Epoch 19/50\n",
      "274/274 [==============================] - 1s 4ms/step - loss: 0.1899 - mean_absolute_error: 0.3125 - val_loss: 0.1739 - val_mean_absolute_error: 0.2819\n",
      "Epoch 20/50\n",
      "274/274 [==============================] - 1s 4ms/step - loss: 0.1894 - mean_absolute_error: 0.3120 - val_loss: 0.1739 - val_mean_absolute_error: 0.2819\n",
      "Epoch 21/50\n",
      "274/274 [==============================] - 1s 3ms/step - loss: 0.1890 - mean_absolute_error: 0.3115 - val_loss: 0.1739 - val_mean_absolute_error: 0.2819\n",
      "Epoch 22/50\n",
      "274/274 [==============================] - 1s 3ms/step - loss: 0.1886 - mean_absolute_error: 0.3110 - val_loss: 0.1739 - val_mean_absolute_error: 0.2821\n",
      "129/129 [==============================] - 0s 1ms/step - loss: 0.1739 - mean_absolute_error: 0.2821\n",
      "69/69 [==============================] - 0s 1ms/step - loss: 0.2040 - mean_absolute_error: 0.2991\n"
     ]
    }
   ],
   "source": [
    "is_switch = True\n",
    "\n",
    "for _ in INPUT_REPORT_SIMULATION:\n",
    "    bm = BasicModel(name=_.name,\n",
    "                   columns=_.columns,\n",
    "                   is_contain_cluster_label=_.is_label,\n",
    "                   is_switch=is_switch)\n",
    "    \n",
    "    bm.set_window()\n",
    "    bm.set_model()\n",
    "    print(bm)\n",
    "    bm.training()\n",
    "    \n",
    "    TRAINING_MODEL_ARR.append(bm)"
   ]
  },
  {
   "cell_type": "code",
   "execution_count": 14,
   "id": "87145a17",
   "metadata": {},
   "outputs": [
    {
     "name": "stdout",
     "output_type": "stream",
     "text": [
      "###### [Notice] set predict info start ###### \n",
      "\n",
      "0 / 91\n",
      "50 / 91\n",
      "91 / 91 complete.\n",
      "\n",
      "###### [Notice] set predict info success ###### \n",
      "\n"
     ]
    }
   ],
   "source": [
    "TRAINING_MODEL_ARR[0].set_predict(is_reshape=True)"
   ]
  },
  {
   "cell_type": "code",
   "execution_count": 15,
   "id": "54289ffe",
   "metadata": {},
   "outputs": [
    {
     "data": {
      "text/plain": [
       "(91, 21)"
      ]
     },
     "execution_count": 15,
     "metadata": {},
     "output_type": "execute_result"
    }
   ],
   "source": [
    "TRAINING_MODEL_ARR[0].predicts_list.shape"
   ]
  },
  {
   "cell_type": "code",
   "execution_count": 16,
   "id": "e58c84af",
   "metadata": {},
   "outputs": [
    {
     "name": "stdout",
     "output_type": "stream",
     "text": [
      "###### [Notice] set predict info start ###### \n",
      "\n",
      "0 / 91\n",
      "50 / 91\n",
      "91 / 91 complete.\n",
      "\n",
      "###### [Notice] set predict info success ###### \n",
      "\n"
     ]
    }
   ],
   "source": [
    "TRAINING_MODEL_ARR[1].set_predict(is_reshape=True)"
   ]
  },
  {
   "cell_type": "code",
   "execution_count": 17,
   "id": "681d1077",
   "metadata": {},
   "outputs": [
    {
     "data": {
      "text/plain": [
       "(91, 21)"
      ]
     },
     "execution_count": 17,
     "metadata": {},
     "output_type": "execute_result"
    }
   ],
   "source": [
    "TRAINING_MODEL_ARR[1].predicts_list.shape"
   ]
  },
  {
   "cell_type": "code",
   "execution_count": 18,
   "id": "87181e87",
   "metadata": {},
   "outputs": [
    {
     "data": {
      "text/plain": [
       "(91, 24)"
      ]
     },
     "execution_count": 18,
     "metadata": {},
     "output_type": "execute_result"
    }
   ],
   "source": [
    "TRAINING_MODEL_ARR[1].get_original_pattern(is_reshape=True).shape"
   ]
  },
  {
   "cell_type": "code",
   "execution_count": 23,
   "id": "86eaf4d3",
   "metadata": {},
   "outputs": [
    {
     "data": {
      "text/plain": [
       "{'tss': 832.4947560520151,\n",
       " 'wss': 181.6995928668544,\n",
       " 'ecv': 78.17408559682248,\n",
       " 'mean dis': 1.286301393569644,\n",
       " 'mean sim': 0.9227334349360963,\n",
       " 'mse': 0.09508089,\n",
       " 'mae': 0.19264074}"
      ]
     },
     "execution_count": 23,
     "metadata": {},
     "output_type": "execute_result"
    }
   ],
   "source": [
    "TRAINING_MODEL_ARR[0].statistic()"
   ]
  },
  {
   "cell_type": "code",
   "execution_count": 22,
   "id": "a3d63a65",
   "metadata": {},
   "outputs": [
    {
     "data": {
      "text/plain": [
       "{'tss': 832.4947560520151,\n",
       " 'wss': 168.56901544064408,\n",
       " 'ecv': 79.75134206970166,\n",
       " 'mean dis': 1.2607414347029486,\n",
       " 'mean sim': 0.92903177242986,\n",
       " 'mse': 0.088209845,\n",
       " 'mae': 0.20122771}"
      ]
     },
     "execution_count": 22,
     "metadata": {},
     "output_type": "execute_result"
    }
   ],
   "source": [
    "TRAINING_MODEL_ARR[1].statistic()"
   ]
  },
  {
   "cell_type": "code",
   "execution_count": null,
   "id": "bd39f0be",
   "metadata": {},
   "outputs": [],
   "source": []
  }
 ],
 "metadata": {
  "kernelspec": {
   "display_name": "Python 3",
   "language": "python",
   "name": "python3"
  },
  "language_info": {
   "codemirror_mode": {
    "name": "ipython",
    "version": 3
   },
   "file_extension": ".py",
   "mimetype": "text/x-python",
   "name": "python",
   "nbconvert_exporter": "python",
   "pygments_lexer": "ipython3",
   "version": "3.9.4"
  }
 },
 "nbformat": 4,
 "nbformat_minor": 5
}
