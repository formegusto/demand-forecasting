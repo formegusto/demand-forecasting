{
 "cells": [
  {
   "cell_type": "code",
   "execution_count": 81,
   "id": "ad53516a",
   "metadata": {},
   "outputs": [
    {
     "name": "stdout",
     "output_type": "stream",
     "text": [
      "The autoreload extension is already loaded. To reload it, use:\n",
      "  %reload_ext autoreload\n"
     ]
    }
   ],
   "source": [
    "%load_ext autoreload\n",
    "%autoreload 2\n",
    "%reload_ext autoreload\n",
    "\n",
    "import matplotlib.pyplot as plt\n",
    "import seaborn as sns\n",
    "\n",
    "sns.set(rc={'figure.figsize': (15.7, 13.27)})\n",
    "plt.rcParams['figure.figsize'] = 15.7,13.27\n",
    "plt.rcParams['font.family'] = 'AppleGothic'"
   ]
  },
  {
   "cell_type": "code",
   "execution_count": 100,
   "id": "43083aa8",
   "metadata": {},
   "outputs": [],
   "source": [
    "from src.model import BasicModel\n",
    "\n",
    "class LEARN_INFO:\n",
    "    def __init__(self, name, columns, is_contain_cluster_label=False):\n",
    "        self.name = name\n",
    "        self.columns = columns\n",
    "        self.is_label = is_contain_cluster_label\n",
    "        \n",
    "INPUT_REPORT_SIMULATION = [\n",
    "    LEARN_INFO(name=\"univariate\", columns=['energy (kw 15min)'], is_contain_cluster_label=False),\n",
    "    LEARN_INFO(name=\"with cluster label\", columns=['energy (kw 15min)'], is_contain_cluster_label=True),\n",
    "]\n",
    "\n",
    "TRAINING_MODEL_ARR = []"
   ]
  },
  {
   "cell_type": "code",
   "execution_count": 110,
   "id": "a869b75c",
   "metadata": {
    "scrolled": false
   },
   "outputs": [
    {
     "name": "stdout",
     "output_type": "stream",
     "text": [
      "###### Basic Model Information ######\n",
      " - name : with cluster label is switch\n",
      " - columns : energy (kw 15min)\n",
      " - datas : \n",
      "                     energy (kw 15min)\n",
      "Date Time                             \n",
      "2017-01-01 00:00:00              15250\n",
      "2017-01-01 01:00:00              14000\n",
      "2017-01-01 02:00:00              14750\n",
      "2017-01-01 03:00:00              29500\n",
      "2017-01-01 04:00:00              15750\n",
      " - norm_datas : \n",
      "                     energy (kw 15min)  cluster energy\n",
      "Date Time                                             \n",
      "2017-01-01 00:00:00          -0.719354       -0.488868\n",
      "2017-01-01 01:00:00          -0.811090       -0.581751\n",
      "2017-01-01 02:00:00          -0.756048       -0.644819\n",
      "2017-01-01 03:00:00           0.326432       -0.162060\n",
      "2017-01-01 04:00:00          -0.682660       -0.420066\n",
      "\n",
      "###### [Notice] generate window start ###### \n",
      "\n",
      "Total window size: 4\n",
      "Input indices: [0 1 2]\n",
      "Label indices: [3]\n",
      "Label column name(s): ['energy (kw 15min)']\n",
      "\n",
      "###### [Notice] generate window success ###### \n",
      "\n",
      "###### [Notice] set lstm model start ###### \n",
      "\n",
      "<tensorflow.python.keras.engine.sequential.Sequential object at 0x7faf90cbacd0>\n",
      "\n",
      "###### [Notice] set lstm model success ###### \n",
      "\n",
      "Epoch 1/50\n",
      "274/274 [==============================] - 2s 4ms/step - loss: 0.4648 - mean_absolute_error: 0.5239 - val_loss: 0.2780 - val_mean_absolute_error: 0.3870\n",
      "Epoch 2/50\n",
      "274/274 [==============================] - 1s 3ms/step - loss: 0.2403 - mean_absolute_error: 0.3652 - val_loss: 0.2255 - val_mean_absolute_error: 0.3338\n",
      "Epoch 3/50\n",
      "274/274 [==============================] - 1s 3ms/step - loss: 0.2179 - mean_absolute_error: 0.3420 - val_loss: 0.2110 - val_mean_absolute_error: 0.3173\n",
      "Epoch 4/50\n",
      "274/274 [==============================] - 1s 3ms/step - loss: 0.2134 - mean_absolute_error: 0.3363 - val_loss: 0.2031 - val_mean_absolute_error: 0.3094\n",
      "Epoch 5/50\n",
      "274/274 [==============================] - 1s 3ms/step - loss: 0.2105 - mean_absolute_error: 0.3330 - val_loss: 0.1978 - val_mean_absolute_error: 0.3038\n",
      "Epoch 6/50\n",
      "274/274 [==============================] - 1s 3ms/step - loss: 0.2082 - mean_absolute_error: 0.3304 - val_loss: 0.1934 - val_mean_absolute_error: 0.2987\n",
      "Epoch 7/50\n",
      "274/274 [==============================] - 1s 3ms/step - loss: 0.2060 - mean_absolute_error: 0.3281 - val_loss: 0.1896 - val_mean_absolute_error: 0.2945\n",
      "Epoch 8/50\n",
      "274/274 [==============================] - 1s 3ms/step - loss: 0.2040 - mean_absolute_error: 0.3262 - val_loss: 0.1867 - val_mean_absolute_error: 0.2915\n",
      "Epoch 9/50\n",
      "274/274 [==============================] - 1s 3ms/step - loss: 0.2023 - mean_absolute_error: 0.3246 - val_loss: 0.1844 - val_mean_absolute_error: 0.2895\n",
      "Epoch 10/50\n",
      "274/274 [==============================] - 1s 3ms/step - loss: 0.2008 - mean_absolute_error: 0.3231 - val_loss: 0.1828 - val_mean_absolute_error: 0.2882\n",
      "Epoch 11/50\n",
      "274/274 [==============================] - 1s 3ms/step - loss: 0.1994 - mean_absolute_error: 0.3218 - val_loss: 0.1814 - val_mean_absolute_error: 0.2872\n",
      "Epoch 12/50\n",
      "274/274 [==============================] - 1s 3ms/step - loss: 0.1981 - mean_absolute_error: 0.3204 - val_loss: 0.1802 - val_mean_absolute_error: 0.2863\n",
      "Epoch 13/50\n",
      "274/274 [==============================] - 1s 3ms/step - loss: 0.1968 - mean_absolute_error: 0.3190 - val_loss: 0.1790 - val_mean_absolute_error: 0.2854\n",
      "Epoch 14/50\n",
      "274/274 [==============================] - 1s 3ms/step - loss: 0.1956 - mean_absolute_error: 0.3176 - val_loss: 0.1780 - val_mean_absolute_error: 0.2844\n",
      "Epoch 15/50\n",
      "274/274 [==============================] - 1s 3ms/step - loss: 0.1943 - mean_absolute_error: 0.3163 - val_loss: 0.1771 - val_mean_absolute_error: 0.2836\n",
      "Epoch 16/50\n",
      "274/274 [==============================] - 1s 3ms/step - loss: 0.1932 - mean_absolute_error: 0.3152 - val_loss: 0.1764 - val_mean_absolute_error: 0.2830\n",
      "Epoch 17/50\n",
      "274/274 [==============================] - 1s 3ms/step - loss: 0.1922 - mean_absolute_error: 0.3142 - val_loss: 0.1758 - val_mean_absolute_error: 0.2828\n",
      "Epoch 18/50\n",
      "274/274 [==============================] - 1s 3ms/step - loss: 0.1914 - mean_absolute_error: 0.3134 - val_loss: 0.1755 - val_mean_absolute_error: 0.2827\n",
      "Epoch 19/50\n",
      "274/274 [==============================] - 1s 3ms/step - loss: 0.1907 - mean_absolute_error: 0.3127 - val_loss: 0.1752 - val_mean_absolute_error: 0.2827\n",
      "Epoch 20/50\n",
      "274/274 [==============================] - 1s 3ms/step - loss: 0.1900 - mean_absolute_error: 0.3121 - val_loss: 0.1750 - val_mean_absolute_error: 0.2827\n",
      "Epoch 21/50\n",
      "274/274 [==============================] - 1s 3ms/step - loss: 0.1895 - mean_absolute_error: 0.3116 - val_loss: 0.1749 - val_mean_absolute_error: 0.2827\n",
      "Epoch 22/50\n",
      "274/274 [==============================] - 1s 3ms/step - loss: 0.1890 - mean_absolute_error: 0.3110 - val_loss: 0.1748 - val_mean_absolute_error: 0.2827\n",
      "Epoch 23/50\n",
      "274/274 [==============================] - 1s 3ms/step - loss: 0.1886 - mean_absolute_error: 0.3106 - val_loss: 0.1748 - val_mean_absolute_error: 0.2826\n",
      "Epoch 24/50\n",
      "274/274 [==============================] - 1s 3ms/step - loss: 0.1881 - mean_absolute_error: 0.3101 - val_loss: 0.1748 - val_mean_absolute_error: 0.2826\n",
      "Epoch 25/50\n",
      "274/274 [==============================] - 1s 3ms/step - loss: 0.1877 - mean_absolute_error: 0.3097 - val_loss: 0.1748 - val_mean_absolute_error: 0.2826\n",
      "129/129 [==============================] - 0s 1ms/step - loss: 0.1748 - mean_absolute_error: 0.2826\n",
      "69/69 [==============================] - 0s 1ms/step - loss: 0.2036 - mean_absolute_error: 0.2988\n"
     ]
    }
   ],
   "source": [
    "is_switch = \n",
    "\n",
    "for _ in INPUT_REPORT_SIMULATION:\n",
    "    bm = BasicModel(name=_.name,\n",
    "                   columns=_.columns,\n",
    "                   is_contain_cluster_label=_.is_label,\n",
    "                   is_switch=is_switch)\n",
    "    \n",
    "    print(bm)\n",
    "    \n",
    "    bm.set_window()\n",
    "    bm.set_model()\n",
    "    \n",
    "    bm.training()\n",
    "    \n",
    "    TRAINING_MODEL_ARR.append(bm)"
   ]
  },
  {
   "cell_type": "code",
   "execution_count": 113,
   "id": "9c3b2a4f",
   "metadata": {},
   "outputs": [
    {
     "ename": "AttributeError",
     "evalue": "'Sequential' object has no attribute 'epochs'",
     "output_type": "error",
     "traceback": [
      "\u001b[0;31m---------------------------------------------------------------------------\u001b[0m",
      "\u001b[0;31mAttributeError\u001b[0m                            Traceback (most recent call last)",
      "\u001b[0;32m<ipython-input-113-dce8c3bd7e23>\u001b[0m in \u001b[0;36m<module>\u001b[0;34m\u001b[0m\n\u001b[0;32m----> 1\u001b[0;31m \u001b[0mTRAINING_MODEL_ARR\u001b[0m\u001b[0;34m[\u001b[0m\u001b[0;36m1\u001b[0m\u001b[0;34m]\u001b[0m\u001b[0;34m.\u001b[0m\u001b[0mmodel\u001b[0m\u001b[0;34m.\u001b[0m\u001b[0mepochs\u001b[0m\u001b[0;34m\u001b[0m\u001b[0;34m\u001b[0m\u001b[0m\n\u001b[0m",
      "\u001b[0;31mAttributeError\u001b[0m: 'Sequential' object has no attribute 'epochs'"
     ]
    }
   ],
   "source": [
    "TRAINING_MODEL_ARR[1].model.epochs"
   ]
  },
  {
   "cell_type": "code",
   "execution_count": null,
   "id": "6b3b6a34",
   "metadata": {},
   "outputs": [],
   "source": []
  }
 ],
 "metadata": {
  "kernelspec": {
   "display_name": "Python 3",
   "language": "python",
   "name": "python3"
  },
  "language_info": {
   "codemirror_mode": {
    "name": "ipython",
    "version": 3
   },
   "file_extension": ".py",
   "mimetype": "text/x-python",
   "name": "python",
   "nbconvert_exporter": "python",
   "pygments_lexer": "ipython3",
   "version": "3.8.8"
  }
 },
 "nbformat": 4,
 "nbformat_minor": 5
}
