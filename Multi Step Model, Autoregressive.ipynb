{
 "cells": [
  {
   "cell_type": "code",
   "execution_count": 1,
   "id": "33025a63",
   "metadata": {},
   "outputs": [],
   "source": [
    "%load_ext autoreload\n",
    "%autoreload 2\n",
    "%reload_ext autoreload\n",
    "\n",
    "import matplotlib.pyplot as plt\n",
    "import pandas as pd\n",
    "from src.model import BasicModel\n",
    "\n",
    "plt.rcParams['figure.figsize'] = 15.7,13.27\n",
    "plt.rcParams['font.family'] = 'AppleGothic'\n",
    "\n",
    "class LEARN_INFO:\n",
    "    def __init__(self, name, columns, is_contain_cluster_label=False, matching_type=\"general\", jump=3):\n",
    "        self.name = name\n",
    "        self.columns = columns\n",
    "        self.is_label = is_contain_cluster_label\n",
    "        self.matching = matching_type\n",
    "        self.jump = jump\n",
    "    \n",
    "\n",
    "# INPUT_REPORT_SIMULATION = [\n",
    "#     LEARN_INFO(name=\"univariate\", columns=['energy (kw 15min)'], is_contain_cluster_label=False),\n",
    "#     LEARN_INFO(name=\"with cluster label\", columns=['energy (kw 15min)'], is_contain_cluster_label=True),\n",
    "# ]\n",
    "\n",
    "DEFAULT_COLUMNS = [\n",
    "    'energy (kw 15min)',\n",
    "    ['week sin',\n",
    "    'week cos'],\n",
    "    ['year sin',\n",
    "    'year cos'],\n",
    "    'season idx',\n",
    "    'weather idx',\n",
    "    'avg ta',\n",
    "    'avg rhm'\n",
    "]"
   ]
  },
  {
   "cell_type": "code",
   "execution_count": null,
   "id": "ccef8b3b",
   "metadata": {},
   "outputs": [],
   "source": []
  }
 ],
 "metadata": {
  "kernelspec": {
   "display_name": "Python 3",
   "language": "python",
   "name": "python3"
  },
  "language_info": {
   "codemirror_mode": {
    "name": "ipython",
    "version": 3
   },
   "file_extension": ".py",
   "mimetype": "text/x-python",
   "name": "python",
   "nbconvert_exporter": "python",
   "pygments_lexer": "ipython3",
   "version": "3.8.8"
  }
 },
 "nbformat": 4,
 "nbformat_minor": 5
}
